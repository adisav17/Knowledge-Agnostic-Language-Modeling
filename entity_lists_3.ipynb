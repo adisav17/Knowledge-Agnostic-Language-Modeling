{
  "nbformat": 4,
  "nbformat_minor": 0,
  "metadata": {
    "colab": {
      "provenance": [],
      "authorship_tag": "ABX9TyN+4xgARtuKlDrLjTW1itWc",
      "include_colab_link": true
    },
    "kernelspec": {
      "name": "python3",
      "display_name": "Python 3"
    },
    "language_info": {
      "name": "python"
    }
  },
  "cells": [
    {
      "cell_type": "markdown",
      "metadata": {
        "id": "view-in-github",
        "colab_type": "text"
      },
      "source": [
        "<a href=\"https://colab.research.google.com/github/adisav17/ontology-driven-language-modeling/blob/main/entity_lists_3.ipynb\" target=\"_parent\"><img src=\"https://colab.research.google.com/assets/colab-badge.svg\" alt=\"Open In Colab\"/></a>"
      ]
    },
    {
      "cell_type": "code",
      "execution_count": 1,
      "metadata": {
        "colab": {
          "base_uri": "https://localhost:8080/"
        },
        "id": "t_ysnBZwhNFg",
        "outputId": "b52795f1-97e5-4bb9-fd90-be3aebd8b260"
      },
      "outputs": [
        {
          "output_type": "stream",
          "name": "stdout",
          "text": [
            "Cloning into 'ontology-driven-language-modeling'...\n",
            "remote: Enumerating objects: 12, done.\u001b[K\n",
            "remote: Counting objects: 100% (12/12), done.\u001b[K\n",
            "remote: Compressing objects: 100% (5/5), done.\u001b[K\n",
            "remote: Total 12 (delta 1), reused 7 (delta 1), pack-reused 0\u001b[K\n",
            "Receiving objects: 100% (12/12), done.\n",
            "Resolving deltas: 100% (1/1), done.\n"
          ]
        }
      ],
      "source": [
        "!git clone https://github.com/adisav17/ontology-driven-language-modeling.git"
      ]
    },
    {
      "cell_type": "code",
      "source": [
        "!git config --global user.email \"adisav17@gmail.com\"\n",
        "!git config --global user.name \"adisav17\""
      ],
      "metadata": {
        "id": "knsIHkY8i6bP"
      },
      "execution_count": 2,
      "outputs": []
    },
    {
      "cell_type": "code",
      "source": [
        "%cd ontology-driven-language-modeling\n"
      ],
      "metadata": {
        "colab": {
          "base_uri": "https://localhost:8080/"
        },
        "id": "MuAq3oSmjg8I",
        "outputId": "1f9d3918-ee00-41b4-aedd-41d25c268991"
      },
      "execution_count": 3,
      "outputs": [
        {
          "output_type": "stream",
          "name": "stdout",
          "text": [
            "/content/ontology-driven-language-modeling\n"
          ]
        }
      ]
    },
    {
      "cell_type": "code",
      "source": [
        "from getpass import getpass\n",
        "access_token = getpass('Enter token: ')\n",
        "!git remote set-url origin https://{access_token}@github.com/adisav17/ontology-driven-language-modeling.git\n"
      ],
      "metadata": {
        "colab": {
          "base_uri": "https://localhost:8080/"
        },
        "id": "Ef96-w8djoYR",
        "outputId": "8d49036e-83b3-44de-ea4f-61bab586534b"
      },
      "execution_count": 4,
      "outputs": [
        {
          "name": "stdout",
          "output_type": "stream",
          "text": [
            "Enter your token: ··········\n"
          ]
        }
      ]
    },
    {
      "cell_type": "code",
      "source": [
        "# Creating a nested dictionary with an additional layer for subtypes to represent the folder structure\n",
        "folder_structure = {\n",
        "    \"knowledge\": {\n",
        "        \"organizations\": {\n",
        "            \"government_agencies\": {\n",
        "                \"federal\": [],\n",
        "                \"state\": [],\n",
        "                \"local\": []\n",
        "            },\n",
        "            \"corporations\": [],\n",
        "            \"non_profit_organizations\": [],\n",
        "            \"educational_institutions\": [],\n",
        "            \"media_outlets\": []\n",
        "        },\n",
        "        \"professions\": {\n",
        "            \"politicians\": [],\n",
        "            \"doctors\": [],\n",
        "            \"lawyers\": [],\n",
        "            \"engineers\": [],\n",
        "            \"journalists\": [],\n",
        "            \"teachers\": [],\n",
        "            \"scientists\": [],\n",
        "            \"artists\": [],\n",
        "            \"entrepreneurs\": [],\n",
        "            \"athletes\": []\n",
        "        },\n",
        "        \"events\": {\n",
        "            \"natural_disasters\": [],\n",
        "            \"political_elections\": [],\n",
        "            \"sports_tournaments\": [],\n",
        "            \"concerts\": [],\n",
        "            \"trade_shows\": [],\n",
        "            \"protests\": [],\n",
        "            \"conferences\": [],\n",
        "            \"festivals\": []\n",
        "        },\n",
        "        \"geographical_locations\": {\n",
        "            \"cities\": [],\n",
        "            \"countries\": []\n",
        "        }\n",
        "    }\n",
        "}\n",
        "\n",
        "\n"
      ],
      "metadata": {
        "id": "eDcT1poIjvsr"
      },
      "execution_count": 5,
      "outputs": []
    },
    {
      "cell_type": "code",
      "source": [
        "# Function to create directories recursively\n",
        "def create_directories(path, structure):\n",
        "    for key, value in structure.items():\n",
        "        new_path = f\"{path}/{key}\"\n",
        "        !mkdir -p {new_path}\n",
        "        if isinstance(value, dict):\n",
        "            create_directories(new_path, value)\n",
        "\n"
      ],
      "metadata": {
        "id": "1k7r17KI0O6K"
      },
      "execution_count": 6,
      "outputs": []
    },
    {
      "cell_type": "code",
      "source": [
        "# Creating directories\n",
        "create_directories(\"/content/ontology-driven-language-modeling\", folder_structure)"
      ],
      "metadata": {
        "id": "mfdvFE220Vzj"
      },
      "execution_count": 7,
      "outputs": []
    },
    {
      "cell_type": "code",
      "source": [
        "# Function to create .gitkeep files recursively in each directory\n",
        "def create_gitkeep_files(path, structure):\n",
        "    for key, value in structure.items():\n",
        "        new_path = f\"{path}/{key}\"\n",
        "        !touch {new_path}/.gitkeep\n",
        "        if isinstance(value, dict):\n",
        "            create_gitkeep_files(new_path, value)\n",
        "\n",
        "# Creating .gitkeep files\n",
        "create_gitkeep_files(\"/content/ontology-driven-language-modeling\", folder_structure)\n"
      ],
      "metadata": {
        "id": "wBwkjCEA0YOc"
      },
      "execution_count": 8,
      "outputs": []
    },
    {
      "cell_type": "code",
      "source": [
        "!git add .\n",
        "!git commit -m \"Create updated folder structure with subtypes\"\n",
        "!git push origin main"
      ],
      "metadata": {
        "colab": {
          "base_uri": "https://localhost:8080/"
        },
        "id": "Y7QmWuWn01h0",
        "outputId": "bf9c84e2-4a86-410e-ffdd-bca70bc03f40"
      },
      "execution_count": 9,
      "outputs": [
        {
          "output_type": "stream",
          "name": "stdout",
          "text": [
            "[main 7786590] Create updated folder structure with subtypes\n",
            " 32 files changed, 0 insertions(+), 0 deletions(-)\n",
            " create mode 100644 knowledge/.gitkeep\n",
            " create mode 100644 knowledge/events/.gitkeep\n",
            " create mode 100644 knowledge/events/concerts/.gitkeep\n",
            " create mode 100644 knowledge/events/conferences/.gitkeep\n",
            " create mode 100644 knowledge/events/festivals/.gitkeep\n",
            " create mode 100644 knowledge/events/natural_disasters/.gitkeep\n",
            " create mode 100644 knowledge/events/political_elections/.gitkeep\n",
            " create mode 100644 knowledge/events/protests/.gitkeep\n",
            " create mode 100644 knowledge/events/sports_tournaments/.gitkeep\n",
            " create mode 100644 knowledge/events/trade_shows/.gitkeep\n",
            " create mode 100644 knowledge/geographical_locations/.gitkeep\n",
            " create mode 100644 knowledge/geographical_locations/cities/.gitkeep\n",
            " create mode 100644 knowledge/organizations/.gitkeep\n",
            " create mode 100644 knowledge/organizations/corporations/.gitkeep\n",
            " create mode 100644 knowledge/organizations/educational_institutions/.gitkeep\n",
            " create mode 100644 knowledge/organizations/government_agencies/.gitkeep\n",
            " create mode 100644 knowledge/organizations/government_agencies/federal/.gitkeep\n",
            " create mode 100644 knowledge/organizations/government_agencies/local/.gitkeep\n",
            " create mode 100644 knowledge/organizations/government_agencies/state/.gitkeep\n",
            " create mode 100644 knowledge/organizations/media_outlets/.gitkeep\n",
            " create mode 100644 knowledge/organizations/non_profit_organizations/.gitkeep\n",
            " create mode 100644 knowledge/professions/.gitkeep\n",
            " create mode 100644 knowledge/professions/artists/.gitkeep\n",
            " create mode 100644 knowledge/professions/athletes/.gitkeep\n",
            " create mode 100644 knowledge/professions/doctors/.gitkeep\n",
            " create mode 100644 knowledge/professions/engineers/.gitkeep\n",
            " create mode 100644 knowledge/professions/entrepreneurs/.gitkeep\n",
            " create mode 100644 knowledge/professions/journalists/.gitkeep\n",
            " create mode 100644 knowledge/professions/lawyers/.gitkeep\n",
            " create mode 100644 knowledge/professions/politicians/.gitkeep\n",
            " create mode 100644 knowledge/professions/scientists/.gitkeep\n",
            " create mode 100644 knowledge/professions/teachers/.gitkeep\n",
            "Enumerating objects: 12, done.\n",
            "Counting objects: 100% (12/12), done.\n",
            "Delta compression using up to 2 threads\n",
            "Compressing objects: 100% (8/8), done.\n",
            "Writing objects: 100% (9/9), 1.04 KiB | 1.04 MiB/s, done.\n",
            "Total 9 (delta 3), reused 1 (delta 0), pack-reused 0\n",
            "remote: Resolving deltas: 100% (3/3), completed with 1 local object.\u001b[K\n",
            "To https://github.com/adisav17/ontology-driven-language-modeling.git\n",
            "   5a9a4f9..7786590  main -> main\n"
          ]
        }
      ]
    },
    {
      "cell_type": "code",
      "source": [
        "!pip install SPARQLWrapper"
      ],
      "metadata": {
        "colab": {
          "base_uri": "https://localhost:8080/"
        },
        "id": "LldFFocZ3dtB",
        "outputId": "3ebb467e-7a92-4f34-d45c-94eb93a3cee6"
      },
      "execution_count": 11,
      "outputs": [
        {
          "output_type": "stream",
          "name": "stdout",
          "text": [
            "Requirement already satisfied: SPARQLWrapper in /usr/local/lib/python3.10/dist-packages (2.0.0)\n",
            "Requirement already satisfied: rdflib>=6.1.1 in /usr/local/lib/python3.10/dist-packages (from SPARQLWrapper) (7.0.0)\n",
            "Requirement already satisfied: isodate<0.7.0,>=0.6.0 in /usr/local/lib/python3.10/dist-packages (from rdflib>=6.1.1->SPARQLWrapper) (0.6.1)\n",
            "Requirement already satisfied: pyparsing<4,>=2.1.0 in /usr/local/lib/python3.10/dist-packages (from rdflib>=6.1.1->SPARQLWrapper) (3.1.1)\n",
            "Requirement already satisfied: six in /usr/local/lib/python3.10/dist-packages (from isodate<0.7.0,>=0.6.0->rdflib>=6.1.1->SPARQLWrapper) (1.16.0)\n"
          ]
        }
      ]
    },
    {
      "cell_type": "code",
      "source": [
        "from SPARQLWrapper import SPARQLWrapper, JSON\n",
        "\n",
        "sparql = SPARQLWrapper(\"https://query.wikidata.org/sparql\")"
      ],
      "metadata": {
        "id": "huKnWKdh3fYA"
      },
      "execution_count": 21,
      "outputs": []
    },
    {
      "cell_type": "code",
      "source": [
        "sparql.setQuery(\"\"\"\n",
        "SELECT ?country ?countryLabel WHERE {\n",
        "  ?country wdt:P31 wd:Q6256.\n",
        "  SERVICE wikibase:label { bd:serviceParam wikibase:language \"[AUTO_LANGUAGE],en\". }\n",
        "}\n",
        "LIMIT 100\n",
        "\"\"\")\n",
        "sparql.setReturnFormat(JSON)\n",
        "countries = sparql.query().convert()"
      ],
      "metadata": {
        "id": "1P40C13i5P05"
      },
      "execution_count": 22,
      "outputs": []
    },
    {
      "cell_type": "code",
      "source": [
        "country_names = [result['countryLabel']['value'] for result in countries['results']['bindings']]\n"
      ],
      "metadata": {
        "id": "mr5fBq2h5T66"
      },
      "execution_count": 23,
      "outputs": []
    },
    {
      "cell_type": "code",
      "source": [
        "country_names[0:5]"
      ],
      "metadata": {
        "colab": {
          "base_uri": "https://localhost:8080/"
        },
        "id": "EWZ2C9S96y09",
        "outputId": "676a5595-3f7a-423a-d9d3-31162e8358eb"
      },
      "execution_count": 27,
      "outputs": [
        {
          "output_type": "execute_result",
          "data": {
            "text/plain": [
              "['Canada', 'Japan', 'Norway', 'England', 'Scotland']"
            ]
          },
          "metadata": {},
          "execution_count": 27
        }
      ]
    },
    {
      "cell_type": "code",
      "source": [
        "'India' in country_names"
      ],
      "metadata": {
        "colab": {
          "base_uri": "https://localhost:8080/"
        },
        "id": "jfCIrZVK6641",
        "outputId": "317d24c4-ba56-4205-e967-c79924b94653"
      },
      "execution_count": 26,
      "outputs": [
        {
          "output_type": "execute_result",
          "data": {
            "text/plain": [
              "True"
            ]
          },
          "metadata": {},
          "execution_count": 26
        }
      ]
    },
    {
      "cell_type": "code",
      "source": [
        "# Path to the folder where the file needs to be saved\n",
        "file_path = \"/content/ontology-driven-language-modeling/knowledge/geographical_locations/countries/countries.txt\""
      ],
      "metadata": {
        "id": "dNvSQw4Y50c0"
      },
      "execution_count": 28,
      "outputs": []
    },
    {
      "cell_type": "code",
      "source": [
        "with open(file_path, \"w\") as file:\n",
        "    for country in country_names:\n",
        "        file.write(country + '\\n')"
      ],
      "metadata": {
        "id": "giGCE_w-52hn"
      },
      "execution_count": 29,
      "outputs": []
    },
    {
      "cell_type": "code",
      "source": [
        "!git add -A\n",
        "!git commit -m \"Added a list of countries to geographical_locations/countries\"\n",
        "!git push origin main"
      ],
      "metadata": {
        "colab": {
          "base_uri": "https://localhost:8080/"
        },
        "id": "hDFm38an5-N0",
        "outputId": "40b16578-a4ae-4ca6-8e8c-60748831c635"
      },
      "execution_count": 30,
      "outputs": [
        {
          "output_type": "stream",
          "name": "stdout",
          "text": [
            "[main 972db6e] Added a list of countries to geographical_locations/countries\n",
            " 1 file changed, 100 insertions(+), 100 deletions(-)\n",
            " rewrite knowledge/geographical_locations/countries/countries.txt (100%)\n",
            "Enumerating objects: 11, done.\n",
            "Counting objects: 100% (11/11), done.\n",
            "Delta compression using up to 2 threads\n",
            "Compressing objects: 100% (6/6), done.\n",
            "Writing objects: 100% (6/6), 1.05 KiB | 1.05 MiB/s, done.\n",
            "Total 6 (delta 3), reused 0 (delta 0), pack-reused 0\n",
            "remote: Resolving deltas: 100% (3/3), completed with 3 local objects.\u001b[K\n",
            "To https://github.com/adisav17/ontology-driven-language-modeling.git\n",
            "   808c412..972db6e  main -> main\n"
          ]
        }
      ]
    },
    {
      "cell_type": "code",
      "source": [
        "folder_query_mapping = {\n",
        "    \"knowledge/organizations/government_agencies/federal\": \"wd:Q327333\",  # This is a general ID for government agencies, further filter might be needed\n",
        "    \"knowledge/organizations/corporations\": \"wd:Q6881511\",        # Business Entity, including companies\n",
        "    \"knowledge/organizations/non_profit_organizations\": \"wd:Q163740\",  # Non-Profit Organization\n",
        "    \"knowledge/organizations/educational_institutions\": \"wd:Q3918\",  # Educational Institution (School)\n",
        "    \"knowledge/organizations/media_outlets\": \"wd:Q11032\",          # Media Organization\n",
        "    \"knowledge/professions/politicians\": \"wd:Q82955\",              # Politician\n",
        "    \"knowledge/professions/doctors\": \"wd:Q39631\",                  # Physician\n",
        "    \"knowledge/professions/lawyers\": \"wd:Q40348\",                  # Lawyer\n",
        "    \"knowledge/professions/engineers\": \"wd:Q81096\",                # Engineer\n",
        "    \"knowledge/professions/journalists\": \"wd:Q1930187\",            # Journalist\n",
        "    \"knowledge/professions/teachers\": \"wd:Q37226\",                 # Teacher\n",
        "    \"knowledge/professions/scientists\": \"wd:Q901\",                 # Scientist\n",
        "    \"knowledge/professions/artists\": \"wd:Q483501\",                 # Artist\n",
        "    \"knowledge/professions/entrepreneurs\": \"wd:Q131524\",           # Entrepreneur\n",
        "    \"knowledge/professions/athletes\": \"wd:Q2066131\",               # Athlete\n",
        "    \"knowledge/events/natural_disasters\": \"wd:Q8065\",              # Natural Disaster\n",
        "    \"knowledge/events/political_elections\": \"wd:Q40231\",           # Election\n",
        "    \"knowledge/events/sports_tournaments\": \"wd:Q27020041\",         # Sports Competition\n",
        "    \"knowledge/events/concerts\": \"wd:Q182945\",                     # Concert\n",
        "    \"knowledge/events/trade_shows\": \"wd:Q56245015\",                # Trade Fair\n",
        "    \"knowledge/events/protests\": \"wd:Q36484\",                      # Protest\n",
        "    \"knowledge/events/conferences\": \"wd:Q2020153\",                 # Conference\n",
        "    \"knowledge/events/festivals\": \"wd:Q220505\",                    # Festival\n",
        "    \"knowledge/geographical_locations/countries\": \"wd:Q6256\",      # Country\n",
        "    \"knowledge/geographical_locations/cities\": \"wd:Q515\",          # City\n",
        "}\n"
      ],
      "metadata": {
        "id": "Br9L8Qqx-EKW"
      },
      "execution_count": 31,
      "outputs": []
    },
    {
      "cell_type": "code",
      "source": [
        "from SPARQLWrapper import SPARQLWrapper, JSON"
      ],
      "metadata": {
        "id": "AnC8IMXM-GZE"
      },
      "execution_count": 32,
      "outputs": []
    },
    {
      "cell_type": "code",
      "source": [
        "\n",
        "\n",
        "# Function to fetch data from Wikidata and save to a file\n",
        "def fetch_and_save_data(folder, entity_id):\n",
        "    # Set up the SPARQL query\n",
        "    sparql = SPARQLWrapper(\"https://query.wikidata.org/sparql\")\n",
        "    query = f\"\"\"\n",
        "    SELECT ?item ?itemLabel WHERE {{\n",
        "      ?item wdt:P31 {entity_id}.\n",
        "      SERVICE wikibase:label {{ bd:serviceParam wikibase:language \"[AUTO_LANGUAGE],en\". }}\n",
        "    }}\n",
        "    LIMIT 100\n",
        "    \"\"\"\n",
        "    sparql.setQuery(query)\n",
        "    sparql.setReturnFormat(JSON)\n",
        "    results = sparql.query().convert()\n",
        "\n",
        "    # Extract entity names\n",
        "    entity_names = [result['itemLabel']['value'] for result in results['results']['bindings']]\n",
        "\n",
        "    # File path\n",
        "    file_path = f\"/content/ontology-driven-language-modeling/{folder}/{folder.split('/')[-1]}.txt\"\n",
        "\n",
        "    # Save entity names to the file\n",
        "    with open(file_path, \"w\") as file:\n",
        "        for name in entity_names:\n",
        "            file.write(name + '\\n')\n"
      ],
      "metadata": {
        "id": "E5p5mOHl-U2J"
      },
      "execution_count": 33,
      "outputs": []
    },
    {
      "cell_type": "code",
      "source": [
        "import time\n",
        "\n",
        "# Iterate over the folder-query mapping to fetch data and save to files\n",
        "for folder, entity_id in folder_query_mapping.items():\n",
        "    fetch_and_save_data(folder, entity_id)\n",
        "    time.sleep(5)"
      ],
      "metadata": {
        "id": "eKxf5PWb-nss"
      },
      "execution_count": 36,
      "outputs": []
    },
    {
      "cell_type": "code",
      "source": [
        "!git add -A\n",
        "!git commit -m \"Added sample entity data to respective folders\"\n",
        "!git push origin main"
      ],
      "metadata": {
        "colab": {
          "base_uri": "https://localhost:8080/"
        },
        "id": "e7TBIg8F_OLS",
        "outputId": "830e174a-0f23-4476-a5f1-681dd9fc965d"
      },
      "execution_count": 37,
      "outputs": [
        {
          "output_type": "stream",
          "name": "stdout",
          "text": [
            "[main 9644bbf] Added sample entity data to respective folders\n",
            " 24 files changed, 1219 insertions(+)\n",
            " create mode 100644 knowledge/events/concerts/concerts.txt\n",
            " create mode 100644 knowledge/events/conferences/conferences.txt\n",
            " create mode 100644 knowledge/events/festivals/festivals.txt\n",
            " create mode 100644 knowledge/events/natural_disasters/natural_disasters.txt\n",
            " create mode 100644 knowledge/events/political_elections/political_elections.txt\n",
            " create mode 100644 knowledge/events/protests/protests.txt\n",
            " create mode 100644 knowledge/events/sports_tournaments/sports_tournaments.txt\n",
            " create mode 100644 knowledge/events/trade_shows/trade_shows.txt\n",
            " create mode 100644 knowledge/geographical_locations/cities/cities.txt\n",
            " create mode 100644 knowledge/organizations/corporations/corporations.txt\n",
            " create mode 100644 knowledge/organizations/educational_institutions/educational_institutions.txt\n",
            " create mode 100644 knowledge/organizations/government_agencies/federal/federal.txt\n",
            " create mode 100644 knowledge/organizations/media_outlets/media_outlets.txt\n",
            " create mode 100644 knowledge/organizations/non_profit_organizations/non_profit_organizations.txt\n",
            " create mode 100644 knowledge/professions/artists/artists.txt\n",
            " create mode 100644 knowledge/professions/athletes/athletes.txt\n",
            " create mode 100644 knowledge/professions/doctors/doctors.txt\n",
            " create mode 100644 knowledge/professions/engineers/engineers.txt\n",
            " create mode 100644 knowledge/professions/entrepreneurs/entrepreneurs.txt\n",
            " create mode 100644 knowledge/professions/journalists/journalists.txt\n",
            " create mode 100644 knowledge/professions/lawyers/lawyers.txt\n",
            " create mode 100644 knowledge/professions/politicians/politicians.txt\n",
            " create mode 100644 knowledge/professions/scientists/scientists.txt\n",
            " create mode 100644 knowledge/professions/teachers/teachers.txt\n",
            "Enumerating objects: 83, done.\n",
            "Counting objects: 100% (60/60), done.\n",
            "Delta compression using up to 2 threads\n",
            "Compressing objects: 100% (52/52), done.\n",
            "Writing objects: 100% (52/52), 16.97 KiB | 2.83 MiB/s, done.\n",
            "Total 52 (delta 1), reused 0 (delta 0), pack-reused 0\n",
            "remote: Resolving deltas: 100% (1/1), completed with 1 local object.\u001b[K\n",
            "To https://github.com/adisav17/ontology-driven-language-modeling.git\n",
            "   972db6e..9644bbf  main -> main\n"
          ]
        }
      ]
    }
  ]
}