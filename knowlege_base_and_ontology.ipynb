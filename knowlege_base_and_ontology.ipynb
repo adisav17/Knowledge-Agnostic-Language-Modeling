{
  "nbformat": 4,
  "nbformat_minor": 0,
  "metadata": {
    "colab": {
      "provenance": [],
      "authorship_tag": "ABX9TyPtfMAJQ/SCX1FIjRgrc1Nc",
      "include_colab_link": true
    },
    "kernelspec": {
      "name": "python3",
      "display_name": "Python 3"
    },
    "language_info": {
      "name": "python"
    }
  },
  "cells": [
    {
      "cell_type": "markdown",
      "metadata": {
        "id": "view-in-github",
        "colab_type": "text"
      },
      "source": [
        "<a href=\"https://colab.research.google.com/github/adisav17/ontology-driven-language-modeling/blob/master/knowlege_base_and_ontology.ipynb\" target=\"_parent\"><img src=\"https://colab.research.google.com/assets/colab-badge.svg\" alt=\"Open In Colab\"/></a>"
      ]
    },
    {
      "cell_type": "code",
      "execution_count": 66,
      "metadata": {
        "id": "OT89lNeQw-yh"
      },
      "outputs": [],
      "source": [
        "class Entity:\n",
        "    def __init__(self, name, is_common_noun = False, attributes=None):\n",
        "        self.name = name\n",
        "        self.is_common_noun = is_common_noun\n",
        "        self.attributes = attributes if attributes else {}\n",
        "        self.relationships = {}\n",
        "\n",
        "    def add_relationship(self, relation_type, related_entity):\n",
        "        self.relationships.setdefault(relation_type, set()).add(related_entity.name)\n",
        "\n",
        "\n",
        "    def get_instances(self, relation_type='has_instance'):\n",
        "        return list(self.relationships.get(relation_type, []))\n",
        "\n",
        "    def add_instances(self, instances, ontology, relation_type='has_instance', is_common_noun=False):\n",
        "        if not isinstance(instances, list):\n",
        "            instances = [instances]  # If a single instance is provided, convert it to a list\n",
        "\n",
        "        for instance_name in instances:\n",
        "            instance_entity = ontology.entities.get(instance_name)\n",
        "            if not instance_entity:\n",
        "                instance_entity = Entity(name=instance_name, is_common_noun=is_common_noun)  # Create new entity if not found\n",
        "                ontology.add_entity(instance_entity)  # Add the new entity to the ontology\n",
        "                print(f\"Entity {instance_name} created and added to the ontology.\")\n",
        "\n",
        "            self.add_relationship(relation_type, instance_entity)\n",
        "\n",
        "    def __str__(self):\n",
        "        return self.name\n"
      ]
    },
    {
      "cell_type": "code",
      "source": [],
      "metadata": {
        "id": "e5EIs0aVuY_f"
      },
      "execution_count": null,
      "outputs": []
    },
    {
      "cell_type": "code",
      "source": [
        "class Relationship:\n",
        "    def __init__(self, relation_type, entity1, entity2):\n",
        "        self.relation_type = relation_type\n",
        "        self.entity1 = entity1\n",
        "        self.entity2 = entity2\n",
        "        entity1.add_relationship(relation_type, entity2)\n",
        "        entity2.add_relationship(self.inverse_relation(relation_type), entity1)\n",
        "\n",
        "    def inverse_relation(self, relation_type):\n",
        "        # This method returns the inverse of the relation type.\n",
        "        # For simplicity, we'll use a dictionary. This should be expanded upon.\n",
        "        inverse_relations = {\n",
        "            \"subtype_of\": \"has_subtype\",\n",
        "            \"instance_of\": \"has_instance\"\n",
        "        }\n",
        "        return inverse_relations.get(relation_type, f\"related_to_{relation_type}\")\n"
      ],
      "metadata": {
        "id": "QPazbJwnxCZK"
      },
      "execution_count": 67,
      "outputs": []
    },
    {
      "cell_type": "code",
      "source": [
        "class Ontology:\n",
        "    def __init__(self):\n",
        "        self.entities = {}\n",
        "\n",
        "    def add_entity(self, entity):\n",
        "        if entity.is_common_noun:\n",
        "            self.entities[entity.name] = entity\n",
        "        else:\n",
        "            print(f\"Entity {entity.name} is not a common noun entity and can't be added to ontology.\")\n",
        "\n",
        "    def add_relationship(self, relation_type, entity1, entity2):\n",
        "        #if entity1.is_common_noun and entity2.is_common_noun:\n",
        "            Relationship(relation_type, entity1, entity2)\n",
        "        #else:\n",
        "        #    print(f\"One or both entities are not common noun entities.\")\n",
        "\n",
        "\n",
        "    def get_hierarchy_list(self, entity, relation_type, hierarchy=None, visited=None):\n",
        "        if hierarchy is None:\n",
        "            hierarchy = []\n",
        "        if visited is None:\n",
        "            visited = set()\n",
        "\n",
        "        if entity.name in visited:\n",
        "            return hierarchy\n",
        "        visited.add(entity.name)\n",
        "\n",
        "        if relation_type in entity.relationships:\n",
        "            for related_entity_name in entity.relationships[relation_type]:\n",
        "                hierarchy.append(related_entity_name)\n",
        "                related_entity = self.entities.get(related_entity_name)  # Fetch the actual entity object\n",
        "                if related_entity:  # If the entity exists\n",
        "                    self.get_hierarchy_list(related_entity, relation_type, hierarchy, visited)\n",
        "\n",
        "        return hierarchy\n",
        "\n",
        "\n",
        "\n",
        "    def get_hierarchy_tree(self, entity, relation_type, visited=None):\n",
        "\n",
        "        hierarchy = []\n",
        "        if visited is None:\n",
        "            visited = set()\n",
        "\n",
        "        if entity.name in visited:\n",
        "            return hierarchy\n",
        "        visited.add(entity.name)\n",
        "\n",
        "        if relation_type in entity.relationships:\n",
        "            for related_entity_name in entity.relationships[relation_type]:\n",
        "                hierarchy.append(related_entity_name)\n",
        "                related_entity = self.entities.get(related_entity_name)  # Fetch the actual entity object\n",
        "                if related_entity:  # If the entity exists\n",
        "                   # self.get_hierarchy(related_entity, relation_type, hierarchy, visited)\n",
        "                   branch = self.get_hierarchy_tree(related_entity,relation_type,visited)\n",
        "                   if branch is not None:\n",
        "                       hierarchy.append(branch)\n",
        "\n",
        "\n",
        "        return hierarchy\n",
        "\n",
        "\n",
        "\n",
        "    def search_entities(self, criteria):\n",
        "        # Placeholder for a method that will search entities based on provided criteria\n",
        "        pass\n",
        "\n",
        "    def update_relationship(self, entity, old_relation, new_relation):\n",
        "        # Placeholder for a method to update relationships\n",
        "        pass\n",
        "\n",
        "    def delete_relationship(self, entity, relation_type):\n",
        "        # Placeholder for a method to delete relationships\n",
        "        pass\n",
        "\n",
        "    def validate_entity(self, entity):\n",
        "        # Placeholder for a method to validate entities before addition\n",
        "        pass\n",
        "\n",
        "    def visualize(self):\n",
        "        # Placeholder for a method to visualize the ontology\n",
        "        pass\n",
        "\n",
        "    def export_ontology(self, format):\n",
        "        # Placeholder for a method to export ontology to a specific format\n",
        "        pass\n",
        "\n",
        "    def import_ontology(self, data, format):\n",
        "        # Placeholder for a method to import ontology from a specific format\n",
        "        pass\n",
        "\n",
        "    def display_hierarchy_list(self, entity, relation_type):\n",
        "        hierarchy = self.get_hierarchy_list(entity, relation_type)\n",
        "        print(\" > \".join(reversed(hierarchy)) + f\" > {entity.name}\")\n",
        "\n",
        "    def display_hierarchy_tree(self, entity, relation_type, indent=0):\n",
        "\n",
        "        hierarchy_tree = self.get_hierarchy_tree(entity, relation_type)\n",
        "        self._print_tree(hierarchy_tree, indent)\n",
        "\n",
        "    def _print_tree(self, tree, indent):\n",
        "        for item in tree:\n",
        "            if isinstance(item, list):\n",
        "                self._print_tree(item, indent + 2)\n",
        "            else:\n",
        "                print(' ' * indent + '- ' + item)\n",
        "\n",
        "\n",
        "\n",
        "\n",
        "\n",
        "\n"
      ],
      "metadata": {
        "id": "WqFBSAPbxJJu"
      },
      "execution_count": 68,
      "outputs": []
    },
    {
      "cell_type": "code",
      "source": [],
      "metadata": {
        "id": "8P_mTLFS1O3n"
      },
      "execution_count": null,
      "outputs": []
    },
    {
      "cell_type": "code",
      "source": [
        "ontology = Ontology()\n",
        "\n",
        "# Creating entities\n",
        "profession = Entity(name=\"Profession\", is_common_noun=True)\n",
        "journalist = Entity(name=\"Journalist\", is_common_noun=True)\n",
        "athlete = Entity(name=\"Athlete\", is_common_noun=True)\n",
        "cricketer = Entity(name=\"Cricketer\", is_common_noun=True)\n",
        "# Adding entities to ontology\n",
        "ontology.add_entity(profession)\n",
        "ontology.add_entity(journalist)\n",
        "ontology.add_entity(athlete)\n",
        "ontology.add_entity(cricketer)\n",
        "# Adding relationships\n",
        "ontology.add_relationship(\"subtype_of\", journalist, profession)\n",
        "ontology.add_relationship(\"subtype_of\", athlete, profession)\n",
        "ontology.add_relationship(\"subtype_of\", cricketer, athlete)\n",
        "\n",
        "\n",
        "ontology.add_relationship(\"has_subtype\",  profession, journalist)\n",
        "ontology.add_relationship(\"has_subtype\",  profession, athlete)\n",
        "# Displaying hierarchical relationship\n",
        "ontology.display_hierarchy_list(profession, \"has_subtype\")"
      ],
      "metadata": {
        "colab": {
          "base_uri": "https://localhost:8080/"
        },
        "id": "UEkhLd09xTpn",
        "outputId": "6d7253e1-99ca-47d3-9050-b0f17c48cbff"
      },
      "execution_count": 69,
      "outputs": [
        {
          "output_type": "stream",
          "name": "stdout",
          "text": [
            "Cricketer > Athlete > Journalist > Profession\n"
          ]
        }
      ]
    },
    {
      "cell_type": "code",
      "source": [
        "ontology.display_hierarchy_tree(profession, \"has_subtype\")"
      ],
      "metadata": {
        "colab": {
          "base_uri": "https://localhost:8080/"
        },
        "id": "t0beZDeyt6vQ",
        "outputId": "89463a73-97c1-4083-ca99-0952a4bcdd34"
      },
      "execution_count": 70,
      "outputs": [
        {
          "output_type": "stream",
          "name": "stdout",
          "text": [
            "- Journalist\n",
            "- Athlete\n",
            "  - Cricketer\n"
          ]
        }
      ]
    },
    {
      "cell_type": "code",
      "source": [
        "ontology.get_hierarchy_list(profession, \"has_subtype\")"
      ],
      "metadata": {
        "colab": {
          "base_uri": "https://localhost:8080/"
        },
        "id": "8d28n7VB2cEw",
        "outputId": "ffab9e15-b006-4405-f4a2-6a6ad4aeee73"
      },
      "execution_count": 71,
      "outputs": [
        {
          "output_type": "execute_result",
          "data": {
            "text/plain": [
              "['Journalist', 'Athlete', 'Cricketer']"
            ]
          },
          "metadata": {},
          "execution_count": 71
        }
      ]
    },
    {
      "cell_type": "code",
      "source": [
        "ontology.get_hierarchy_tree(profession, \"has_subtype\")"
      ],
      "metadata": {
        "colab": {
          "base_uri": "https://localhost:8080/"
        },
        "id": "rXbS289WsCy6",
        "outputId": "6df8de2e-bd5b-4803-f914-3b7f52d31482"
      },
      "execution_count": 55,
      "outputs": [
        {
          "output_type": "execute_result",
          "data": {
            "text/plain": [
              "['Journalist', [], 'Athlete', ['Cricketer', []]]"
            ]
          },
          "metadata": {},
          "execution_count": 55
        }
      ]
    },
    {
      "cell_type": "code",
      "source": [
        "list(profession.relationships[\"has_subtype\"])"
      ],
      "metadata": {
        "colab": {
          "base_uri": "https://localhost:8080/"
        },
        "id": "d_MWGzvtgy1I",
        "outputId": "189a93a2-4e42-4335-8daf-5eca7d1e4d2c"
      },
      "execution_count": 72,
      "outputs": [
        {
          "output_type": "execute_result",
          "data": {
            "text/plain": [
              "['Journalist', 'Athlete']"
            ]
          },
          "metadata": {},
          "execution_count": 72
        }
      ]
    },
    {
      "cell_type": "code",
      "source": [
        "\n",
        "arnab = Entity(name=\"Arnab Goswami\",is_common_noun=False,  attributes={})\n",
        "rajdeep = Entity(name=\"Rajdeep Sardesai\",is_common_noun=False,  attributes = {})\n",
        "sachin = Entity(name = \"Sachin Tendulkar\", is_common_noun=False, attributes ={})\n",
        "rahul = Entity(name = \"Rahul Dravid\", is_common_noun=False, attributes ={})\n",
        "\n"
      ],
      "metadata": {
        "id": "-Q7yj_F1ucUu"
      },
      "execution_count": 73,
      "outputs": []
    },
    {
      "cell_type": "code",
      "source": [
        "\n",
        "# Adding relationships\n",
        "ontology.add_relationship(\"instance_of\", arnab, journalist)\n",
        "ontology.add_relationship(\"instance_of\", rajdeep, journalist)\n",
        "ontology.add_relationship(\"instance_of\", sachin, cricketer)\n",
        "ontology.add_relationship(\"instance_of\", rahul, cricketer)"
      ],
      "metadata": {
        "id": "eg0guCrBu2ar"
      },
      "execution_count": 74,
      "outputs": []
    },
    {
      "cell_type": "code",
      "source": [
        "list(journalist.relationships['has_instance'])"
      ],
      "metadata": {
        "colab": {
          "base_uri": "https://localhost:8080/"
        },
        "id": "E0BcziwewF9G",
        "outputId": "581b8a96-be16-4075-ea0c-c3ac44704b2d"
      },
      "execution_count": 75,
      "outputs": [
        {
          "output_type": "execute_result",
          "data": {
            "text/plain": [
              "['Arnab Goswami', 'Rajdeep Sardesai']"
            ]
          },
          "metadata": {},
          "execution_count": 75
        }
      ]
    },
    {
      "cell_type": "code",
      "source": [
        "list(cricketer.relationships['has_instance'])"
      ],
      "metadata": {
        "colab": {
          "base_uri": "https://localhost:8080/"
        },
        "id": "-Pdl9Q4UwNa6",
        "outputId": "a3776b5b-276d-4f7d-c103-1b11e8a2eb34"
      },
      "execution_count": 76,
      "outputs": [
        {
          "output_type": "execute_result",
          "data": {
            "text/plain": [
              "['Sachin Tendulkar', 'Rahul Dravid']"
            ]
          },
          "metadata": {},
          "execution_count": 76
        }
      ]
    },
    {
      "cell_type": "code",
      "source": [
        "journalist.get_instances()"
      ],
      "metadata": {
        "colab": {
          "base_uri": "https://localhost:8080/"
        },
        "id": "_S2n168w0mOZ",
        "outputId": "f239461a-33fd-4fec-afde-166054823743"
      },
      "execution_count": 77,
      "outputs": [
        {
          "output_type": "execute_result",
          "data": {
            "text/plain": [
              "['Arnab Goswami', 'Rajdeep Sardesai']"
            ]
          },
          "metadata": {},
          "execution_count": 77
        }
      ]
    },
    {
      "cell_type": "code",
      "source": [
        "journalist.add_instances(['Larry King'], ontology )\n",
        "\n"
      ],
      "metadata": {
        "colab": {
          "base_uri": "https://localhost:8080/"
        },
        "id": "JWviOaE9095N",
        "outputId": "0d8659bf-f932-4053-953d-6e3478cc3c60"
      },
      "execution_count": 78,
      "outputs": [
        {
          "output_type": "stream",
          "name": "stdout",
          "text": [
            "Entity Larry King is not a common noun entity and can't be added to ontology.\n",
            "Entity Larry King created and added to the ontology.\n"
          ]
        }
      ]
    },
    {
      "cell_type": "code",
      "source": [
        "journalist.get_instances()"
      ],
      "metadata": {
        "colab": {
          "base_uri": "https://localhost:8080/"
        },
        "id": "x_WVutt11eOF",
        "outputId": "10a491f5-71f4-45cb-f4a3-2b45d68ca155"
      },
      "execution_count": 79,
      "outputs": [
        {
          "output_type": "execute_result",
          "data": {
            "text/plain": [
              "['Arnab Goswami', 'Rajdeep Sardesai', 'Larry King']"
            ]
          },
          "metadata": {},
          "execution_count": 79
        }
      ]
    },
    {
      "cell_type": "code",
      "source": [
        "class DataImport:\n",
        "    def __init__(self, folder_path, metadata_file):\n",
        "        self.folder_path = folder_path\n",
        "        self.metadata_file = metadata_file\n",
        "\n",
        "    def import_entities(self, ontology):\n",
        "        # logic to read entities from terminal folders and add to the ontology\n",
        "        pass\n",
        "\n",
        "    def import_relationships(self, ontology):\n",
        "        # logic to read metadata file and establish relationships in the ontology\n",
        "        pass\n",
        "\n",
        "    def validate_structure(self):\n",
        "        # logic to validate folder structure and metadata file format\n",
        "        pass\n"
      ],
      "metadata": {
        "id": "dKm0i9A_9QHz"
      },
      "execution_count": null,
      "outputs": []
    },
    {
      "cell_type": "code",
      "source": [
        "import os\n",
        "\n",
        "class DataExport:\n",
        "    def __init__(self, folder_path, metadata_file):\n",
        "        self.folder_path = folder_path\n",
        "        self.metadata_file = metadata_file\n",
        "\n",
        "    def export_entities(self, ontology):\n",
        "        # logic to export entities from ontology to terminal folders\n",
        "        pass\n",
        "\n",
        "    def export_relationships(self, ontology):\n",
        "        # logic to write relationships from ontology to metadata file\n",
        "        pass\n",
        "\n",
        "    def create_structure(self):\n",
        "        # logic to create folder structure for exporting data\n",
        "        pass\n",
        "\n",
        "    def update_folder_structure(self, ontology):\n",
        "        # Removes existing folder structure and recreates it based on the updated ontology\n",
        "        # This could be optimized to only update the changed parts in a more complex implementation\n",
        "        pass\n",
        "\n",
        "        self._remove_existing_structure(self.folder_path)\n",
        "        self.create_structure()\n",
        "\n",
        "        self.export_entities(ontology)\n",
        "        self.export_relationships(ontology)\n",
        "\n",
        "    def _remove_existing_structure(self, path):\n",
        "        # Logic to remove existing folder structure\n",
        "        # Be very careful with this, ensure it doesn’t unintentionally delete important data\n",
        "        pass\n",
        "\n",
        "        for root, dirs, files in os.walk(path, topdown=False):\n",
        "            for file in files:\n",
        "                os.remove(os.path.join(root, file))\n",
        "            for dir in dirs:\n",
        "                os.rmdir(os.path.join(root, dir))\n"
      ],
      "metadata": {
        "id": "jd4dPDlM9ROj"
      },
      "execution_count": 82,
      "outputs": []
    },
    {
      "cell_type": "code",
      "source": [
        "class Query:\n",
        "    def get_entity(self, entity_name):\n",
        "        # logic to retrieve entity details\n",
        "        pass\n",
        "\n",
        "    def get_relationship(self, entity1_name, entity2_name):\n",
        "        # logic to retrieve relationship details\n",
        "        pass\n",
        "\n",
        "    def query(self, query_string):\n",
        "        # logic to execute complex queries and return results\n",
        "        pass\n"
      ],
      "metadata": {
        "id": "ZKMmQTd89bbu"
      },
      "execution_count": 80,
      "outputs": []
    },
    {
      "cell_type": "code",
      "source": [
        "class Update:\n",
        "    def add_entity(self, entity_name, attributes):\n",
        "        # logic to add a new entity\n",
        "        pass\n",
        "\n",
        "    def update_entity(self, entity_name, updated_attributes):\n",
        "        # logic to update an existing entity\n",
        "        pass\n",
        "\n",
        "    def delete_entity(self, entity_name):\n",
        "        # logic to delete an entity and its relationships\n",
        "        pass\n"
      ],
      "metadata": {
        "id": "aiqLGmqG9qXG"
      },
      "execution_count": 81,
      "outputs": []
    }
  ]
}